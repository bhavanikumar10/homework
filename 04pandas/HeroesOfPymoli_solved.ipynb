{
 "cells": [
  {
   "cell_type": "code",
   "execution_count": 42,
   "metadata": {
    "scrolled": true
   },
   "outputs": [],
   "source": [
    "# Dependencies - Importing Pandas library and storing it as pd\n",
    "import os\n",
    "import pandas as pd\n",
    "import json"
   ]
  },
  {
   "cell_type": "code",
   "execution_count": 43,
   "metadata": {},
   "outputs": [
    {
     "data": {
      "text/plain": [
       "'.\\\\purchase_data.json'"
      ]
     },
     "execution_count": 43,
     "metadata": {},
     "output_type": "execute_result"
    }
   ],
   "source": [
    "# saving the path to the data file\n",
    "data_read = os.path.join(\".\", \"purchase_data.json\")\n",
    "data_read"
   ]
  },
  {
   "cell_type": "code",
   "execution_count": 230,
   "metadata": {},
   "outputs": [
    {
     "data": {
      "text/html": [
       "<div>\n",
       "<style scoped>\n",
       "    .dataframe tbody tr th:only-of-type {\n",
       "        vertical-align: middle;\n",
       "    }\n",
       "\n",
       "    .dataframe tbody tr th {\n",
       "        vertical-align: top;\n",
       "    }\n",
       "\n",
       "    .dataframe thead th {\n",
       "        text-align: right;\n",
       "    }\n",
       "</style>\n",
       "<table border=\"1\" class=\"dataframe\">\n",
       "  <thead>\n",
       "    <tr style=\"text-align: right;\">\n",
       "      <th></th>\n",
       "      <th>Age</th>\n",
       "      <th>Gender</th>\n",
       "      <th>Item ID</th>\n",
       "      <th>Item Name</th>\n",
       "      <th>Price</th>\n",
       "      <th>SN</th>\n",
       "    </tr>\n",
       "  </thead>\n",
       "  <tbody>\n",
       "    <tr>\n",
       "      <th>0</th>\n",
       "      <td>38</td>\n",
       "      <td>Male</td>\n",
       "      <td>165</td>\n",
       "      <td>Bone Crushing Silver Skewer</td>\n",
       "      <td>3.37</td>\n",
       "      <td>Aelalis34</td>\n",
       "    </tr>\n",
       "    <tr>\n",
       "      <th>1</th>\n",
       "      <td>21</td>\n",
       "      <td>Male</td>\n",
       "      <td>119</td>\n",
       "      <td>Stormbringer, Dark Blade of Ending Misery</td>\n",
       "      <td>2.32</td>\n",
       "      <td>Eolo46</td>\n",
       "    </tr>\n",
       "    <tr>\n",
       "      <th>2</th>\n",
       "      <td>34</td>\n",
       "      <td>Male</td>\n",
       "      <td>174</td>\n",
       "      <td>Primitive Blade</td>\n",
       "      <td>2.46</td>\n",
       "      <td>Assastnya25</td>\n",
       "    </tr>\n",
       "    <tr>\n",
       "      <th>3</th>\n",
       "      <td>21</td>\n",
       "      <td>Male</td>\n",
       "      <td>92</td>\n",
       "      <td>Final Critic</td>\n",
       "      <td>1.36</td>\n",
       "      <td>Pheusrical25</td>\n",
       "    </tr>\n",
       "    <tr>\n",
       "      <th>4</th>\n",
       "      <td>23</td>\n",
       "      <td>Male</td>\n",
       "      <td>63</td>\n",
       "      <td>Stormfury Mace</td>\n",
       "      <td>1.27</td>\n",
       "      <td>Aela59</td>\n",
       "    </tr>\n",
       "  </tbody>\n",
       "</table>\n",
       "</div>"
      ],
      "text/plain": [
       "   Age Gender  Item ID                                  Item Name  Price  \\\n",
       "0   38   Male      165                Bone Crushing Silver Skewer   3.37   \n",
       "1   21   Male      119  Stormbringer, Dark Blade of Ending Misery   2.32   \n",
       "2   34   Male      174                            Primitive Blade   2.46   \n",
       "3   21   Male       92                               Final Critic   1.36   \n",
       "4   23   Male       63                             Stormfury Mace   1.27   \n",
       "\n",
       "             SN  \n",
       "0     Aelalis34  \n",
       "1        Eolo46  \n",
       "2   Assastnya25  \n",
       "3  Pheusrical25  \n",
       "4        Aela59  "
      ]
     },
     "execution_count": 230,
     "metadata": {},
     "output_type": "execute_result"
    }
   ],
   "source": [
    "with open(data_read) as data_file:\n",
    "    data = pd.read_json(data_file)\n",
    "dataframe_df = pd.DataFrame(data)\n",
    "dataframe_df.head()\n",
    "\n"
   ]
  },
  {
   "cell_type": "code",
   "execution_count": 178,
   "metadata": {
    "scrolled": true
   },
   "outputs": [
    {
     "data": {
      "text/plain": [
       "0           SN\n",
       "1          Age\n",
       "2       Gender\n",
       "3      Item_ID\n",
       "4    Item Name\n",
       "5        Price\n",
       "dtype: object"
      ]
     },
     "execution_count": 178,
     "metadata": {},
     "output_type": "execute_result"
    }
   ],
   "source": [
    "# Creating a Pandas series from the series list given in the problem\n",
    "data_series = pd.Series([\"SN\", \"Age\", \"Gender\", \"Item_ID\", \"Item Name\", \"Price\"])\n",
    "data_series"
   ]
  },
  {
   "cell_type": "code",
   "execution_count": 179,
   "metadata": {},
   "outputs": [
    {
     "name": "stdout",
     "output_type": "stream",
     "text": [
      "Player Count is : 573\n"
     ]
    }
   ],
   "source": [
    "# Player Count - Total number of players\n",
    "player_count = len(dataframe_df.SN.value_counts())\n",
    "print(\"Player Count is : \" + str(player_count))"
   ]
  },
  {
   "cell_type": "code",
   "execution_count": 180,
   "metadata": {},
   "outputs": [
    {
     "data": {
      "text/plain": [
       "183"
      ]
     },
     "execution_count": 180,
     "metadata": {},
     "output_type": "execute_result"
    }
   ],
   "source": [
    "# Purchasing Analysis (Total)\n",
    "#* Number of Unique Items\n",
    "#* Average Purchase Price\n",
    "#* Total Number of Purchases\n",
    "#* Total Revenue\n",
    "\n",
    "number_unique_items = len(dataframe_df[\"Item ID\"].unique())\n",
    "number_unique_items"
   ]
  },
  {
   "cell_type": "code",
   "execution_count": 181,
   "metadata": {},
   "outputs": [
    {
     "data": {
      "text/plain": [
       "2286.33"
      ]
     },
     "execution_count": 181,
     "metadata": {},
     "output_type": "execute_result"
    }
   ],
   "source": [
    "#Total Revenue\n",
    "total_purchases = dataframe_df.Price.sum()\n",
    "total_purchases"
   ]
  },
  {
   "cell_type": "code",
   "execution_count": 182,
   "metadata": {},
   "outputs": [
    {
     "data": {
      "text/plain": [
       "2.9311923076923074"
      ]
     },
     "execution_count": 182,
     "metadata": {},
     "output_type": "execute_result"
    }
   ],
   "source": [
    "#* Average Purchase Price\n",
    "av_pur_price = total_purchases/len(dataframe_df)\n",
    "av_pur_price"
   ]
  },
  {
   "cell_type": "code",
   "execution_count": 183,
   "metadata": {},
   "outputs": [
    {
     "data": {
      "text/plain": [
       "780"
      ]
     },
     "execution_count": 183,
     "metadata": {},
     "output_type": "execute_result"
    }
   ],
   "source": [
    "#* Total Number of Purchases\n",
    "total_no_purchases = len(dataframe_df)\n",
    "total_no_purchases\n"
   ]
  },
  {
   "cell_type": "code",
   "execution_count": 184,
   "metadata": {},
   "outputs": [
    {
     "name": "stdout",
     "output_type": "stream",
     "text": [
      "Purchase Analysis Summary\n"
     ]
    },
    {
     "data": {
      "text/html": [
       "<div>\n",
       "<style scoped>\n",
       "    .dataframe tbody tr th:only-of-type {\n",
       "        vertical-align: middle;\n",
       "    }\n",
       "\n",
       "    .dataframe tbody tr th {\n",
       "        vertical-align: top;\n",
       "    }\n",
       "\n",
       "    .dataframe thead th {\n",
       "        text-align: right;\n",
       "    }\n",
       "</style>\n",
       "<table border=\"1\" class=\"dataframe\">\n",
       "  <thead>\n",
       "    <tr style=\"text-align: right;\">\n",
       "      <th></th>\n",
       "      <th>Average Purchase Price</th>\n",
       "      <th>Number of Unique Items</th>\n",
       "      <th>Total Number of Purchases</th>\n",
       "      <th>Total Revenue</th>\n",
       "    </tr>\n",
       "  </thead>\n",
       "  <tbody>\n",
       "    <tr>\n",
       "      <th>0</th>\n",
       "      <td>2.931192</td>\n",
       "      <td>183</td>\n",
       "      <td>780</td>\n",
       "      <td>2286.33</td>\n",
       "    </tr>\n",
       "  </tbody>\n",
       "</table>\n",
       "</div>"
      ],
      "text/plain": [
       "   Average Purchase Price  Number of Unique Items  Total Number of Purchases  \\\n",
       "0                2.931192                     183                        780   \n",
       "\n",
       "   Total Revenue  \n",
       "0        2286.33  "
      ]
     },
     "execution_count": 184,
     "metadata": {},
     "output_type": "execute_result"
    }
   ],
   "source": [
    "# Purchasing Analysis (Total)\n",
    "#* Number of Unique Items\n",
    "#* Average Purchase Price\n",
    "#* Total Number of Purchases\n",
    "#* Total Revenue\n",
    "\n",
    "pur_analysis_summary = pd.DataFrame({\"Number of Unique Items\":number_unique_items, \"Average Purchase Price\":av_pur_price,\"Total Number of Purchases\":total_no_purchases,\"Total Revenue\":total_purchases }, index = [0])\n",
    "print(\"Purchase Analysis Summary\")\n",
    "pur_analysis_summary"
   ]
  },
  {
   "cell_type": "code",
   "execution_count": 194,
   "metadata": {},
   "outputs": [
    {
     "data": {
      "text/plain": [
       "<pandas.core.groupby.DataFrameGroupBy object at 0x000002536E5ED2E8>"
      ]
     },
     "execution_count": 194,
     "metadata": {},
     "output_type": "execute_result"
    }
   ],
   "source": [
    "### Gender Demographics\n",
    "\n",
    "#* Percentage and Count of Male Players\n",
    "#* Percentage and Count of Female Players\n",
    "#* Percentage and Count of Other / Non-Disclosed\n",
    "\n",
    "grouped_data_df = dataframe_df.groupby(\"Gender\")\n",
    "grouped_data_df"
   ]
  },
  {
   "cell_type": "code",
   "execution_count": 301,
   "metadata": {},
   "outputs": [
    {
     "data": {
      "text/plain": [
       "Gender\n",
       "Female                   136\n",
       "Male                     633\n",
       "Other / Non-Disclosed     11\n",
       "Name: Age, dtype: int64"
      ]
     },
     "execution_count": 301,
     "metadata": {},
     "output_type": "execute_result"
    }
   ],
   "source": [
    "gender_data = grouped_data_df[\"Age\"].count()\n",
    "\n",
    "gender_data\n"
   ]
  },
  {
   "cell_type": "code",
   "execution_count": 303,
   "metadata": {},
   "outputs": [
    {
     "data": {
      "text/html": [
       "<div>\n",
       "<style scoped>\n",
       "    .dataframe tbody tr th:only-of-type {\n",
       "        vertical-align: middle;\n",
       "    }\n",
       "\n",
       "    .dataframe tbody tr th {\n",
       "        vertical-align: top;\n",
       "    }\n",
       "\n",
       "    .dataframe thead th {\n",
       "        text-align: right;\n",
       "    }\n",
       "</style>\n",
       "<table border=\"1\" class=\"dataframe\">\n",
       "  <thead>\n",
       "    <tr style=\"text-align: right;\">\n",
       "      <th></th>\n",
       "      <th>Age</th>\n",
       "      <th>Item ID</th>\n",
       "      <th>Price</th>\n",
       "    </tr>\n",
       "    <tr>\n",
       "      <th>Gender</th>\n",
       "      <th></th>\n",
       "      <th></th>\n",
       "      <th></th>\n",
       "    </tr>\n",
       "  </thead>\n",
       "  <tbody>\n",
       "    <tr>\n",
       "      <th>Female</th>\n",
       "      <td>22.558824</td>\n",
       "      <td>88.110294</td>\n",
       "      <td>2.815515</td>\n",
       "    </tr>\n",
       "    <tr>\n",
       "      <th>Male</th>\n",
       "      <td>22.685624</td>\n",
       "      <td>91.571880</td>\n",
       "      <td>2.950521</td>\n",
       "    </tr>\n",
       "    <tr>\n",
       "      <th>Other / Non-Disclosed</th>\n",
       "      <td>27.363636</td>\n",
       "      <td>114.636364</td>\n",
       "      <td>3.249091</td>\n",
       "    </tr>\n",
       "  </tbody>\n",
       "</table>\n",
       "</div>"
      ],
      "text/plain": [
       "                             Age     Item ID     Price\n",
       "Gender                                                \n",
       "Female                 22.558824   88.110294  2.815515\n",
       "Male                   22.685624   91.571880  2.950521\n",
       "Other / Non-Disclosed  27.363636  114.636364  3.249091"
      ]
     },
     "execution_count": 303,
     "metadata": {},
     "output_type": "execute_result"
    }
   ],
   "source": [
    " average_price_gender= grouped_data_df.mean()\n",
    "average_price_gender\n"
   ]
  },
  {
   "cell_type": "code",
   "execution_count": 319,
   "metadata": {},
   "outputs": [
    {
     "data": {
      "text/html": [
       "<div>\n",
       "<style scoped>\n",
       "    .dataframe tbody tr th:only-of-type {\n",
       "        vertical-align: middle;\n",
       "    }\n",
       "\n",
       "    .dataframe tbody tr th {\n",
       "        vertical-align: top;\n",
       "    }\n",
       "\n",
       "    .dataframe thead th {\n",
       "        text-align: right;\n",
       "    }\n",
       "</style>\n",
       "<table border=\"1\" class=\"dataframe\">\n",
       "  <thead>\n",
       "    <tr style=\"text-align: right;\">\n",
       "      <th></th>\n",
       "      <th>Count of Players:</th>\n",
       "      <th>Percentage of Players</th>\n",
       "    </tr>\n",
       "    <tr>\n",
       "      <th>Gender</th>\n",
       "      <th></th>\n",
       "      <th></th>\n",
       "    </tr>\n",
       "  </thead>\n",
       "  <tbody>\n",
       "    <tr>\n",
       "      <th>Female</th>\n",
       "      <td>136</td>\n",
       "      <td>81.153846</td>\n",
       "    </tr>\n",
       "    <tr>\n",
       "      <th>Male</th>\n",
       "      <td>633</td>\n",
       "      <td>17.435897</td>\n",
       "    </tr>\n",
       "    <tr>\n",
       "      <th>Other / Non-Disclosed</th>\n",
       "      <td>11</td>\n",
       "      <td>1.410256</td>\n",
       "    </tr>\n",
       "  </tbody>\n",
       "</table>\n",
       "</div>"
      ],
      "text/plain": [
       "                       Count of Players:  Percentage of Players\n",
       "Gender                                                         \n",
       "Female                               136              81.153846\n",
       "Male                                 633              17.435897\n",
       "Other / Non-Disclosed                 11               1.410256"
      ]
     },
     "execution_count": 319,
     "metadata": {},
     "output_type": "execute_result"
    }
   ],
   "source": [
    "percentage_male_players = ((gender_data_df.iloc[1,0])/gender_data.sum())*100\n",
    "percentage_female_players = ((gender_data_df.iloc[0,0])/gender_data.sum())*100\n",
    "percentage_other_players = (11/gender_data.sum())*100\n",
    "\n",
    "lst = [percentage_male_players, percentage_female_players,percentage_other_players]\n",
    "\n",
    "gender_demographics_summary = pd.DataFrame({\"Count of Players:\": gender_data,\"Percentage of Players\":lst})\n",
    "\n",
    "gender_demographics_summary\n",
    "\n"
   ]
  },
  {
   "cell_type": "code",
   "execution_count": 201,
   "metadata": {},
   "outputs": [
    {
     "data": {
      "text/html": [
       "<div>\n",
       "<style scoped>\n",
       "    .dataframe tbody tr th:only-of-type {\n",
       "        vertical-align: middle;\n",
       "    }\n",
       "\n",
       "    .dataframe tbody tr th {\n",
       "        vertical-align: top;\n",
       "    }\n",
       "\n",
       "    .dataframe thead th {\n",
       "        text-align: right;\n",
       "    }\n",
       "</style>\n",
       "<table border=\"1\" class=\"dataframe\">\n",
       "  <thead>\n",
       "    <tr style=\"text-align: right;\">\n",
       "      <th></th>\n",
       "      <th>Age</th>\n",
       "      <th>Item ID</th>\n",
       "      <th>Price</th>\n",
       "    </tr>\n",
       "    <tr>\n",
       "      <th>Gender</th>\n",
       "      <th></th>\n",
       "      <th></th>\n",
       "      <th></th>\n",
       "    </tr>\n",
       "  </thead>\n",
       "  <tbody>\n",
       "    <tr>\n",
       "      <th>Female</th>\n",
       "      <td>3068</td>\n",
       "      <td>11983</td>\n",
       "      <td>382.91</td>\n",
       "    </tr>\n",
       "    <tr>\n",
       "      <th>Male</th>\n",
       "      <td>14360</td>\n",
       "      <td>57965</td>\n",
       "      <td>1867.68</td>\n",
       "    </tr>\n",
       "    <tr>\n",
       "      <th>Other / Non-Disclosed</th>\n",
       "      <td>301</td>\n",
       "      <td>1261</td>\n",
       "      <td>35.74</td>\n",
       "    </tr>\n",
       "  </tbody>\n",
       "</table>\n",
       "</div>"
      ],
      "text/plain": [
       "                         Age  Item ID    Price\n",
       "Gender                                        \n",
       "Female                  3068    11983   382.91\n",
       "Male                   14360    57965  1867.68\n",
       "Other / Non-Disclosed    301     1261    35.74"
      ]
     },
     "execution_count": 201,
     "metadata": {},
     "output_type": "execute_result"
    }
   ],
   "source": [
    "total_purchase_price_gender= grouped_data_df.sum()\n",
    "total_purchase_price_gender"
   ]
  },
  {
   "cell_type": "code",
   "execution_count": 219,
   "metadata": {},
   "outputs": [
    {
     "data": {
      "text/plain": [
       "Gender\n",
       "Female                   2.815515\n",
       "Male                     2.950521\n",
       "Other / Non-Disclosed    3.249091\n",
       "dtype: float64"
      ]
     },
     "execution_count": 219,
     "metadata": {},
     "output_type": "execute_result"
    }
   ],
   "source": [
    "normalized_pur_price = total_purchase_price_gender.iloc[:,2]/gender_data.iloc[:,1]\n",
    "normalized_pur_price"
   ]
  },
  {
   "cell_type": "code",
   "execution_count": 211,
   "metadata": {},
   "outputs": [
    {
     "data": {
      "text/plain": [
       "1867.6799999999985"
      ]
     },
     "execution_count": 211,
     "metadata": {},
     "output_type": "execute_result"
    }
   ],
   "source": [
    "total_purchase_price_gender.iloc[1,2] =total_price\n",
    "     "
   ]
  },
  {
   "cell_type": "code",
   "execution_count": 247,
   "metadata": {},
   "outputs": [
    {
     "data": {
      "text/html": [
       "<div>\n",
       "<style scoped>\n",
       "    .dataframe tbody tr th:only-of-type {\n",
       "        vertical-align: middle;\n",
       "    }\n",
       "\n",
       "    .dataframe tbody tr th {\n",
       "        vertical-align: top;\n",
       "    }\n",
       "\n",
       "    .dataframe thead th {\n",
       "        text-align: right;\n",
       "    }\n",
       "</style>\n",
       "<table border=\"1\" class=\"dataframe\">\n",
       "  <thead>\n",
       "    <tr style=\"text-align: right;\">\n",
       "      <th></th>\n",
       "      <th>Age</th>\n",
       "      <th>Gender</th>\n",
       "      <th>Item ID</th>\n",
       "      <th>Item Name</th>\n",
       "      <th>Price</th>\n",
       "      <th>SN</th>\n",
       "    </tr>\n",
       "  </thead>\n",
       "  <tbody>\n",
       "    <tr>\n",
       "      <th>0</th>\n",
       "      <td>38</td>\n",
       "      <td>Male</td>\n",
       "      <td>165</td>\n",
       "      <td>Bone Crushing Silver Skewer</td>\n",
       "      <td>3.37</td>\n",
       "      <td>Aelalis34</td>\n",
       "    </tr>\n",
       "    <tr>\n",
       "      <th>1</th>\n",
       "      <td>21</td>\n",
       "      <td>Male</td>\n",
       "      <td>119</td>\n",
       "      <td>Stormbringer, Dark Blade of Ending Misery</td>\n",
       "      <td>2.32</td>\n",
       "      <td>Eolo46</td>\n",
       "    </tr>\n",
       "    <tr>\n",
       "      <th>2</th>\n",
       "      <td>34</td>\n",
       "      <td>Male</td>\n",
       "      <td>174</td>\n",
       "      <td>Primitive Blade</td>\n",
       "      <td>2.46</td>\n",
       "      <td>Assastnya25</td>\n",
       "    </tr>\n",
       "    <tr>\n",
       "      <th>3</th>\n",
       "      <td>21</td>\n",
       "      <td>Male</td>\n",
       "      <td>92</td>\n",
       "      <td>Final Critic</td>\n",
       "      <td>1.36</td>\n",
       "      <td>Pheusrical25</td>\n",
       "    </tr>\n",
       "    <tr>\n",
       "      <th>4</th>\n",
       "      <td>23</td>\n",
       "      <td>Male</td>\n",
       "      <td>63</td>\n",
       "      <td>Stormfury Mace</td>\n",
       "      <td>1.27</td>\n",
       "      <td>Aela59</td>\n",
       "    </tr>\n",
       "    <tr>\n",
       "      <th>7</th>\n",
       "      <td>29</td>\n",
       "      <td>Female</td>\n",
       "      <td>169</td>\n",
       "      <td>Interrogator, Blood Blade of the Queen</td>\n",
       "      <td>3.32</td>\n",
       "      <td>Iathenudil29</td>\n",
       "    </tr>\n",
       "    <tr>\n",
       "      <th>16</th>\n",
       "      <td>22</td>\n",
       "      <td>Female</td>\n",
       "      <td>123</td>\n",
       "      <td>Twilight's Carver</td>\n",
       "      <td>1.14</td>\n",
       "      <td>Sundista85</td>\n",
       "    </tr>\n",
       "    <tr>\n",
       "      <th>17</th>\n",
       "      <td>22</td>\n",
       "      <td>Female</td>\n",
       "      <td>59</td>\n",
       "      <td>Lightning, Etcher of the King</td>\n",
       "      <td>1.65</td>\n",
       "      <td>Aenarap34</td>\n",
       "    </tr>\n",
       "    <tr>\n",
       "      <th>22</th>\n",
       "      <td>11</td>\n",
       "      <td>Female</td>\n",
       "      <td>11</td>\n",
       "      <td>Brimstone</td>\n",
       "      <td>2.52</td>\n",
       "      <td>Deural48</td>\n",
       "    </tr>\n",
       "    <tr>\n",
       "      <th>29</th>\n",
       "      <td>16</td>\n",
       "      <td>Female</td>\n",
       "      <td>45</td>\n",
       "      <td>Glinting Glass Edge</td>\n",
       "      <td>2.46</td>\n",
       "      <td>Phaedai25</td>\n",
       "    </tr>\n",
       "    <tr>\n",
       "      <th>177</th>\n",
       "      <td>34</td>\n",
       "      <td>Other / Non-Disclosed</td>\n",
       "      <td>155</td>\n",
       "      <td>War-Forged Gold Deflector</td>\n",
       "      <td>3.73</td>\n",
       "      <td>Assassa38</td>\n",
       "    </tr>\n",
       "    <tr>\n",
       "      <th>209</th>\n",
       "      <td>33</td>\n",
       "      <td>Other / Non-Disclosed</td>\n",
       "      <td>157</td>\n",
       "      <td>Spada, Etcher of Hatred</td>\n",
       "      <td>2.21</td>\n",
       "      <td>Frichistasta59</td>\n",
       "    </tr>\n",
       "    <tr>\n",
       "      <th>244</th>\n",
       "      <td>21</td>\n",
       "      <td>Other / Non-Disclosed</td>\n",
       "      <td>183</td>\n",
       "      <td>Dragon's Greatsword</td>\n",
       "      <td>2.36</td>\n",
       "      <td>Tyaerith73</td>\n",
       "    </tr>\n",
       "    <tr>\n",
       "      <th>267</th>\n",
       "      <td>33</td>\n",
       "      <td>Other / Non-Disclosed</td>\n",
       "      <td>65</td>\n",
       "      <td>Conqueror Adamantite Mace</td>\n",
       "      <td>1.96</td>\n",
       "      <td>Frichistasta59</td>\n",
       "    </tr>\n",
       "    <tr>\n",
       "      <th>276</th>\n",
       "      <td>12</td>\n",
       "      <td>Other / Non-Disclosed</td>\n",
       "      <td>128</td>\n",
       "      <td>Blazeguard, Reach of Eternity</td>\n",
       "      <td>4.00</td>\n",
       "      <td>Aillycal84</td>\n",
       "    </tr>\n",
       "  </tbody>\n",
       "</table>\n",
       "</div>"
      ],
      "text/plain": [
       "     Age                 Gender  Item ID  \\\n",
       "0     38                   Male      165   \n",
       "1     21                   Male      119   \n",
       "2     34                   Male      174   \n",
       "3     21                   Male       92   \n",
       "4     23                   Male       63   \n",
       "7     29                 Female      169   \n",
       "16    22                 Female      123   \n",
       "17    22                 Female       59   \n",
       "22    11                 Female       11   \n",
       "29    16                 Female       45   \n",
       "177   34  Other / Non-Disclosed      155   \n",
       "209   33  Other / Non-Disclosed      157   \n",
       "244   21  Other / Non-Disclosed      183   \n",
       "267   33  Other / Non-Disclosed       65   \n",
       "276   12  Other / Non-Disclosed      128   \n",
       "\n",
       "                                     Item Name  Price              SN  \n",
       "0                  Bone Crushing Silver Skewer   3.37       Aelalis34  \n",
       "1    Stormbringer, Dark Blade of Ending Misery   2.32          Eolo46  \n",
       "2                              Primitive Blade   2.46     Assastnya25  \n",
       "3                                 Final Critic   1.36    Pheusrical25  \n",
       "4                               Stormfury Mace   1.27          Aela59  \n",
       "7       Interrogator, Blood Blade of the Queen   3.32    Iathenudil29  \n",
       "16                           Twilight's Carver   1.14      Sundista85  \n",
       "17               Lightning, Etcher of the King   1.65       Aenarap34  \n",
       "22                                   Brimstone   2.52        Deural48  \n",
       "29                         Glinting Glass Edge   2.46       Phaedai25  \n",
       "177                  War-Forged Gold Deflector   3.73       Assassa38  \n",
       "209                    Spada, Etcher of Hatred   2.21  Frichistasta59  \n",
       "244                        Dragon's Greatsword   2.36      Tyaerith73  \n",
       "267                  Conqueror Adamantite Mace   1.96  Frichistasta59  \n",
       "276              Blazeguard, Reach of Eternity   4.00      Aillycal84  "
      ]
     },
     "execution_count": 247,
     "metadata": {},
     "output_type": "execute_result"
    }
   ],
   "source": [
    "grouped_data_df[\"Age\"]\n",
    "grouped_data_df.head()"
   ]
  },
  {
   "cell_type": "code",
   "execution_count": 325,
   "metadata": {},
   "outputs": [
    {
     "data": {
      "text/html": [
       "<div>\n",
       "<style scoped>\n",
       "    .dataframe tbody tr th:only-of-type {\n",
       "        vertical-align: middle;\n",
       "    }\n",
       "\n",
       "    .dataframe tbody tr th {\n",
       "        vertical-align: top;\n",
       "    }\n",
       "\n",
       "    .dataframe thead th {\n",
       "        text-align: right;\n",
       "    }\n",
       "</style>\n",
       "<table border=\"1\" class=\"dataframe\">\n",
       "  <thead>\n",
       "    <tr style=\"text-align: right;\">\n",
       "      <th></th>\n",
       "      <th>Average Purchase Price</th>\n",
       "      <th>Normalized Total</th>\n",
       "      <th>Purchase Count</th>\n",
       "      <th>Total Purchase Value</th>\n",
       "    </tr>\n",
       "    <tr>\n",
       "      <th>Gender</th>\n",
       "      <th></th>\n",
       "      <th></th>\n",
       "      <th></th>\n",
       "      <th></th>\n",
       "    </tr>\n",
       "  </thead>\n",
       "  <tbody>\n",
       "    <tr>\n",
       "      <th>Female</th>\n",
       "      <td>2.815515</td>\n",
       "      <td>2.815515</td>\n",
       "      <td>136</td>\n",
       "      <td>382.91</td>\n",
       "    </tr>\n",
       "    <tr>\n",
       "      <th>Male</th>\n",
       "      <td>2.950521</td>\n",
       "      <td>2.950521</td>\n",
       "      <td>633</td>\n",
       "      <td>1867.68</td>\n",
       "    </tr>\n",
       "    <tr>\n",
       "      <th>Other / Non-Disclosed</th>\n",
       "      <td>3.249091</td>\n",
       "      <td>3.249091</td>\n",
       "      <td>11</td>\n",
       "      <td>35.74</td>\n",
       "    </tr>\n",
       "  </tbody>\n",
       "</table>\n",
       "</div>"
      ],
      "text/plain": [
       "                       Average Purchase Price  Normalized Total  \\\n",
       "Gender                                                            \n",
       "Female                               2.815515          2.815515   \n",
       "Male                                 2.950521          2.950521   \n",
       "Other / Non-Disclosed                3.249091          3.249091   \n",
       "\n",
       "                       Purchase Count  Total Purchase Value  \n",
       "Gender                                                       \n",
       "Female                            136                382.91  \n",
       "Male                              633               1867.68  \n",
       "Other / Non-Disclosed              11                 35.74  "
      ]
     },
     "execution_count": 325,
     "metadata": {},
     "output_type": "execute_result"
    }
   ],
   "source": [
    "### Purchase Analysis (Gender)\n",
    "\n",
    "#  * Purchase Count\n",
    "#  * Average Purchase Price\n",
    "#  * Total Purchase Value\n",
    "#  * Normalized Totals\n",
    "\n",
    "age_demo_df = dataframe_df.groupby([\"Gender\"])\n",
    "player_demographics = dataframe_df.loc[:,[\"Age\", \"Price\", \"SN\"]]\n",
    "\n",
    "age_pur_count = age_demo_df[\"Price\"].count()\n",
    "age_pur_average = age_demo_df[\"Price\"].mean()\n",
    "age_total_pur_value = age_demo_df[\"Price\"].sum()\n",
    "\n",
    "normalized_total = age_total_pur_value/age_pur_count\n",
    "\n",
    "\n",
    "age_summary_table = pd.DataFrame({\"Purchase Count\": age_pur_count, \"Average Purchase Price\":age_pur_average, \"Total Purchase Value\":age_total_pur_value, \"Normalized Total\": normalized_total})\n",
    "\n",
    "age_summary_table.head()\n"
   ]
  },
  {
   "cell_type": "code",
   "execution_count": 365,
   "metadata": {
    "scrolled": true
   },
   "outputs": [
    {
     "data": {
      "text/html": [
       "<div>\n",
       "<style scoped>\n",
       "    .dataframe tbody tr th:only-of-type {\n",
       "        vertical-align: middle;\n",
       "    }\n",
       "\n",
       "    .dataframe tbody tr th {\n",
       "        vertical-align: top;\n",
       "    }\n",
       "\n",
       "    .dataframe thead th {\n",
       "        text-align: right;\n",
       "    }\n",
       "</style>\n",
       "<table border=\"1\" class=\"dataframe\">\n",
       "  <thead>\n",
       "    <tr style=\"text-align: right;\">\n",
       "      <th></th>\n",
       "      <th>Normalized Total</th>\n",
       "      <th>Player Total</th>\n",
       "      <th>Player percentage</th>\n",
       "      <th>Total Purchase Value</th>\n",
       "    </tr>\n",
       "  </thead>\n",
       "  <tbody>\n",
       "    <tr>\n",
       "      <th>10-14</th>\n",
       "      <td>NaN</td>\n",
       "      <td>35.0</td>\n",
       "      <td>NaN</td>\n",
       "      <td>NaN</td>\n",
       "    </tr>\n",
       "    <tr>\n",
       "      <th>14-19</th>\n",
       "      <td>NaN</td>\n",
       "      <td>133.0</td>\n",
       "      <td>NaN</td>\n",
       "      <td>NaN</td>\n",
       "    </tr>\n",
       "    <tr>\n",
       "      <th>19-24</th>\n",
       "      <td>NaN</td>\n",
       "      <td>336.0</td>\n",
       "      <td>NaN</td>\n",
       "      <td>NaN</td>\n",
       "    </tr>\n",
       "    <tr>\n",
       "      <th>25-29</th>\n",
       "      <td>NaN</td>\n",
       "      <td>125.0</td>\n",
       "      <td>NaN</td>\n",
       "      <td>NaN</td>\n",
       "    </tr>\n",
       "    <tr>\n",
       "      <th>30-34</th>\n",
       "      <td>NaN</td>\n",
       "      <td>64.0</td>\n",
       "      <td>NaN</td>\n",
       "      <td>NaN</td>\n",
       "    </tr>\n",
       "    <tr>\n",
       "      <th>35-39</th>\n",
       "      <td>NaN</td>\n",
       "      <td>42.0</td>\n",
       "      <td>NaN</td>\n",
       "      <td>NaN</td>\n",
       "    </tr>\n",
       "    <tr>\n",
       "      <th>40 and above</th>\n",
       "      <td>NaN</td>\n",
       "      <td>17.0</td>\n",
       "      <td>NaN</td>\n",
       "      <td>NaN</td>\n",
       "    </tr>\n",
       "    <tr>\n",
       "      <th>Female</th>\n",
       "      <td>NaN</td>\n",
       "      <td>NaN</td>\n",
       "      <td>NaN</td>\n",
       "      <td>382.91</td>\n",
       "    </tr>\n",
       "    <tr>\n",
       "      <th>Less than 10</th>\n",
       "      <td>NaN</td>\n",
       "      <td>28.0</td>\n",
       "      <td>NaN</td>\n",
       "      <td>NaN</td>\n",
       "    </tr>\n",
       "    <tr>\n",
       "      <th>Male</th>\n",
       "      <td>NaN</td>\n",
       "      <td>NaN</td>\n",
       "      <td>NaN</td>\n",
       "      <td>1867.68</td>\n",
       "    </tr>\n",
       "    <tr>\n",
       "      <th>Other / Non-Disclosed</th>\n",
       "      <td>NaN</td>\n",
       "      <td>NaN</td>\n",
       "      <td>NaN</td>\n",
       "      <td>35.74</td>\n",
       "    </tr>\n",
       "  </tbody>\n",
       "</table>\n",
       "</div>"
      ],
      "text/plain": [
       "                       Normalized Total  Player Total  Player percentage  \\\n",
       "10-14                               NaN          35.0                NaN   \n",
       "14-19                               NaN         133.0                NaN   \n",
       "19-24                               NaN         336.0                NaN   \n",
       "25-29                               NaN         125.0                NaN   \n",
       "30-34                               NaN          64.0                NaN   \n",
       "35-39                               NaN          42.0                NaN   \n",
       "40 and above                        NaN          17.0                NaN   \n",
       "Female                              NaN           NaN                NaN   \n",
       "Less than 10                        NaN          28.0                NaN   \n",
       "Male                                NaN           NaN                NaN   \n",
       "Other / Non-Disclosed               NaN           NaN                NaN   \n",
       "\n",
       "                       Total Purchase Value  \n",
       "10-14                                   NaN  \n",
       "14-19                                   NaN  \n",
       "19-24                                   NaN  \n",
       "25-29                                   NaN  \n",
       "30-34                                   NaN  \n",
       "35-39                                   NaN  \n",
       "40 and above                            NaN  \n",
       "Female                               382.91  \n",
       "Less than 10                            NaN  \n",
       "Male                                1867.68  \n",
       "Other / Non-Disclosed                 35.74  "
      ]
     },
     "execution_count": 365,
     "metadata": {},
     "output_type": "execute_result"
    }
   ],
   "source": [
    "### Age Demographics\n",
    "#* The below each broken into bins of 4 years (i.e. &lt;10, 10-14, 15-19, etc.)\n",
    "#  * Purchase Count\n",
    "#  * Average Purchase Price\n",
    "#  * Total Purchase Value\n",
    "#  * Normalized Total\n",
    "\n",
    "player_demographics = pd.DataFrame(dataframe_df.loc[:,[\"Age\",\"Price\",\"SN\"]])\n",
    "\n",
    "age_bins = [0, 9.90, 14.90, 19.90, 24.90, 29.90, 34.90, 39.90, 99]\n",
    "age_labels = ['Less than 10', '10-14', '14-19','19-24', '25-29', '30-34', '35-39', '40 and above']\n",
    "\n",
    "player_demographics[\"Age Group\"] = pd.cut(player_demographics[\"Age\"],bins=age_bins, labels = age_labels)\n",
    "\n",
    "player_demographics_total = player_demographics[\"Age Group\"].value_counts()\n",
    "\n",
    "player_percentage_totals = player_demographics_total/age_pur_count\n",
    "\n",
    "tot_pur_value =age_demo_df[\"Price\"].sum()\n",
    "normalized_total_age = tot_pur_value/player_demographics_total\n",
    "\n",
    "\n",
    "player_demographics_summary = pd.DataFrame({\"Player Total\" : player_demographics_total,\"Player percentage\":player_percentage_totals,\"Total Purchase Value\":tot_pur_value, \"Normalized Total\": normalized_total_age})\n",
    "player_demographics_summary"
   ]
  },
  {
   "cell_type": "code",
   "execution_count": null,
   "metadata": {},
   "outputs": [],
   "source": []
  },
  {
   "cell_type": "code",
   "execution_count": 349,
   "metadata": {},
   "outputs": [],
   "source": [
    "### Top Spenders\n",
    "\n",
    "#* Identify the the top 5 spenders in the game by total purchase value, then list (in a table):\n",
    "#  * SN\n",
    "#  * Purchase Count\n",
    "#  * Average Purchase Price\n",
    "#  * Total Purchase Value\n",
    "\n",
    "top_spenders_df = dataframe_df.groupby(\"SN\")\n"
   ]
  },
  {
   "cell_type": "code",
   "execution_count": 66,
   "metadata": {},
   "outputs": [
    {
     "data": {
      "text/plain": [
       "SN\n",
       "Adairialis76       1\n",
       "Aduephos78         3\n",
       "Aeduera68          3\n",
       "Aela49             1\n",
       "Aela59             1\n",
       "Aelalis34          2\n",
       "Aelin32            1\n",
       "Aeliriam77         2\n",
       "Aeliriarin93       1\n",
       "Aeliru63           2\n",
       "Aellyria80         1\n",
       "Aellyrialis39      1\n",
       "Aellysup38         1\n",
       "Aelollo59          1\n",
       "Aenarap34          1\n",
       "Aenasu69           1\n",
       "Aeral43            1\n",
       "Aeral85            1\n",
       "Aeral97            1\n",
       "Aeri84             2\n",
       "Aerillorin70       1\n",
       "Aerithllora36      3\n",
       "Aerithnucal56      2\n",
       "Aerithnuphos61     1\n",
       "Aerithriaphos45    1\n",
       "Aesty51            1\n",
       "Aesur96            1\n",
       "Aethe80            1\n",
       "Aethedru70         1\n",
       "Aidain51           2\n",
       "                  ..\n",
       "Undjaskla97        1\n",
       "Undjasksya56       1\n",
       "Undotesta33        1\n",
       "Wailin72           1\n",
       "Whaestysu86        1\n",
       "Yadacal26          1\n",
       "Yadaisuir65        2\n",
       "Yadanun74          3\n",
       "Yalaeria91         1\n",
       "Yaliru88           1\n",
       "Yalo71             1\n",
       "Yalostiphos68      1\n",
       "Yaralnura48        2\n",
       "Yararmol43         1\n",
       "Yarirarn35         1\n",
       "Yaristi64          1\n",
       "Yarithllodeu72     1\n",
       "Yarithphos28       1\n",
       "Yarithsurgue62     2\n",
       "Yarmol79           1\n",
       "Yarolwen77         2\n",
       "Yasriphos60        3\n",
       "Yasrisu92          1\n",
       "Yasur35            1\n",
       "Yasur85            1\n",
       "Yasurra52          1\n",
       "Yathecal72         2\n",
       "Yathecal82         1\n",
       "Zhisrisu83         2\n",
       "Zontibe81          1\n",
       "Name: SN, Length: 573, dtype: int64"
      ]
     },
     "execution_count": 66,
     "metadata": {},
     "output_type": "execute_result"
    }
   ],
   "source": [
    "pur_count = top_spenders_df[\"SN\"].count()\n",
    "pur_count"
   ]
  },
  {
   "cell_type": "code",
   "execution_count": 350,
   "metadata": {},
   "outputs": [
    {
     "data": {
      "text/plain": [
       "SN\n",
       "Adairialis76    2.460000\n",
       "Aduephos78      2.233333\n",
       "Aeduera68       1.933333\n",
       "Aela49          2.460000\n",
       "Aela59          1.270000\n",
       "dtype: float64"
      ]
     },
     "execution_count": 350,
     "metadata": {},
     "output_type": "execute_result"
    }
   ],
   "source": [
    "av_pur_price = top_spenders_df[\"Price\"].sum()/pur_count\n",
    "av_pur_price.head()"
   ]
  },
  {
   "cell_type": "code",
   "execution_count": 118,
   "metadata": {},
   "outputs": [
    {
     "data": {
      "text/html": [
       "<div>\n",
       "<style scoped>\n",
       "    .dataframe tbody tr th:only-of-type {\n",
       "        vertical-align: middle;\n",
       "    }\n",
       "\n",
       "    .dataframe tbody tr th {\n",
       "        vertical-align: top;\n",
       "    }\n",
       "\n",
       "    .dataframe thead th {\n",
       "        text-align: right;\n",
       "    }\n",
       "</style>\n",
       "<table border=\"1\" class=\"dataframe\">\n",
       "  <thead>\n",
       "    <tr style=\"text-align: right;\">\n",
       "      <th></th>\n",
       "      <th>Price</th>\n",
       "    </tr>\n",
       "    <tr>\n",
       "      <th>SN</th>\n",
       "      <th></th>\n",
       "    </tr>\n",
       "  </thead>\n",
       "  <tbody>\n",
       "    <tr>\n",
       "      <th>Undirrala66</th>\n",
       "      <td>17.06</td>\n",
       "    </tr>\n",
       "    <tr>\n",
       "      <th>Saedue76</th>\n",
       "      <td>13.56</td>\n",
       "    </tr>\n",
       "    <tr>\n",
       "      <th>Mindimnya67</th>\n",
       "      <td>12.74</td>\n",
       "    </tr>\n",
       "    <tr>\n",
       "      <th>Haellysu29</th>\n",
       "      <td>12.73</td>\n",
       "    </tr>\n",
       "    <tr>\n",
       "      <th>Eoda93</th>\n",
       "      <td>11.58</td>\n",
       "    </tr>\n",
       "  </tbody>\n",
       "</table>\n",
       "</div>"
      ],
      "text/plain": [
       "             Price\n",
       "SN                \n",
       "Undirrala66  17.06\n",
       "Saedue76     13.56\n",
       "Mindimnya67  12.74\n",
       "Haellysu29   12.73\n",
       "Eoda93       11.58"
      ]
     },
     "execution_count": 118,
     "metadata": {},
     "output_type": "execute_result"
    }
   ],
   "source": [
    "#  * Total Purchase Value\n",
    "total_purchase_value = top_spenders_df[\"Price\"].sum()\n",
    "total_purchase_value_df = pd.DataFrame(total_purchase_value)\n",
    "total_purchase_value_df = total_purchase_value_df.sort_values(\"Price\", ascending = False)\n",
    "total_purchase_value_df.reset_index()\n",
    "total_purchases = []\n",
    "total_purchase_value_df[0:5]\n"
   ]
  },
  {
   "cell_type": "code",
   "execution_count": 126,
   "metadata": {},
   "outputs": [
    {
     "data": {
      "text/html": [
       "<div>\n",
       "<style scoped>\n",
       "    .dataframe tbody tr th:only-of-type {\n",
       "        vertical-align: middle;\n",
       "    }\n",
       "\n",
       "    .dataframe tbody tr th {\n",
       "        vertical-align: top;\n",
       "    }\n",
       "\n",
       "    .dataframe thead th {\n",
       "        text-align: right;\n",
       "    }\n",
       "</style>\n",
       "<table border=\"1\" class=\"dataframe\">\n",
       "  <thead>\n",
       "    <tr style=\"text-align: right;\">\n",
       "      <th></th>\n",
       "      <th>Average Purchase Price</th>\n",
       "      <th>Purchase Count</th>\n",
       "      <th>Total_Purchases</th>\n",
       "    </tr>\n",
       "    <tr>\n",
       "      <th>SN</th>\n",
       "      <th></th>\n",
       "      <th></th>\n",
       "      <th></th>\n",
       "    </tr>\n",
       "  </thead>\n",
       "  <tbody>\n",
       "    <tr>\n",
       "      <th>Adairialis76</th>\n",
       "      <td>2.460000</td>\n",
       "      <td>1</td>\n",
       "      <td>17.06</td>\n",
       "    </tr>\n",
       "    <tr>\n",
       "      <th>Aduephos78</th>\n",
       "      <td>2.233333</td>\n",
       "      <td>3</td>\n",
       "      <td>13.56</td>\n",
       "    </tr>\n",
       "    <tr>\n",
       "      <th>Aeduera68</th>\n",
       "      <td>1.933333</td>\n",
       "      <td>3</td>\n",
       "      <td>12.74</td>\n",
       "    </tr>\n",
       "    <tr>\n",
       "      <th>Aela49</th>\n",
       "      <td>2.460000</td>\n",
       "      <td>1</td>\n",
       "      <td>12.73</td>\n",
       "    </tr>\n",
       "    <tr>\n",
       "      <th>Aela59</th>\n",
       "      <td>1.270000</td>\n",
       "      <td>1</td>\n",
       "      <td>11.58</td>\n",
       "    </tr>\n",
       "  </tbody>\n",
       "</table>\n",
       "</div>"
      ],
      "text/plain": [
       "              Average Purchase Price  Purchase Count  Total_Purchases\n",
       "SN                                                                   \n",
       "Adairialis76                2.460000               1            17.06\n",
       "Aduephos78                  2.233333               3            13.56\n",
       "Aeduera68                   1.933333               3            12.74\n",
       "Aela49                      2.460000               1            12.73\n",
       "Aela59                      1.270000               1            11.58"
      ]
     },
     "execution_count": 126,
     "metadata": {},
     "output_type": "execute_result"
    }
   ],
   "source": [
    "top_spenders_summary_table= pd.DataFrame({\"Average Purchase Price\": av_pur_price,\"Purchase Count\": pur_count, \"Total_Purchases\":list(total_purchase_value_df[\"Price\"])})\n",
    "top_spenders_summary_table.head()\n"
   ]
  },
  {
   "cell_type": "code",
   "execution_count": 124,
   "metadata": {},
   "outputs": [
    {
     "data": {
      "text/plain": [
       "[17.06, 13.56, 12.739999999999998, 12.73, 11.58]"
      ]
     },
     "execution_count": 124,
     "metadata": {},
     "output_type": "execute_result"
    }
   ],
   "source": [
    "list(total_purchase_value_df[\"Price\"][0:5])"
   ]
  },
  {
   "cell_type": "code",
   "execution_count": 574,
   "metadata": {},
   "outputs": [
    {
     "data": {
      "text/html": [
       "<div>\n",
       "<style scoped>\n",
       "    .dataframe tbody tr th:only-of-type {\n",
       "        vertical-align: middle;\n",
       "    }\n",
       "\n",
       "    .dataframe tbody tr th {\n",
       "        vertical-align: top;\n",
       "    }\n",
       "\n",
       "    .dataframe thead th {\n",
       "        text-align: right;\n",
       "    }\n",
       "</style>\n",
       "<table border=\"1\" class=\"dataframe\">\n",
       "  <thead>\n",
       "    <tr style=\"text-align: right;\">\n",
       "      <th></th>\n",
       "      <th>Price</th>\n",
       "    </tr>\n",
       "    <tr>\n",
       "      <th>Item ID</th>\n",
       "      <th></th>\n",
       "    </tr>\n",
       "  </thead>\n",
       "  <tbody>\n",
       "    <tr>\n",
       "      <th>34</th>\n",
       "      <td>37.26</td>\n",
       "    </tr>\n",
       "    <tr>\n",
       "      <th>115</th>\n",
       "      <td>29.75</td>\n",
       "    </tr>\n",
       "    <tr>\n",
       "      <th>32</th>\n",
       "      <td>29.70</td>\n",
       "    </tr>\n",
       "    <tr>\n",
       "      <th>103</th>\n",
       "      <td>29.22</td>\n",
       "    </tr>\n",
       "    <tr>\n",
       "      <th>107</th>\n",
       "      <td>28.88</td>\n",
       "    </tr>\n",
       "  </tbody>\n",
       "</table>\n",
       "</div>"
      ],
      "text/plain": [
       "         Price\n",
       "Item ID       \n",
       "34       37.26\n",
       "115      29.75\n",
       "32       29.70\n",
       "103      29.22\n",
       "107      28.88"
      ]
     },
     "execution_count": 574,
     "metadata": {},
     "output_type": "execute_result"
    }
   ],
   "source": [
    "### Most Popular Items\n",
    "\n",
    "#* Identify the 5 most popular items by purchase count, then list (in a table):\n",
    "# * Item ID\n",
    "#  * Item Name\n",
    "#* Purchase count\n",
    "# * Item Price\n",
    "#  * Total Purchase Value\n",
    "most_pop_df = dataframe_df.groupby(\"Item ID\")\n",
    "total_purchase_value = most_pop_df[\"Price\"].sum()\n",
    "total_purchase_value_df = pd.DataFrame(total_purchase_value)\n",
    "total_purchase_value_df = total_purchase_value_df.sort_values(\"Price\", ascending = False)\n",
    "total_purchase_value_df.reset_index()\n",
    "total_purchase_value_df[0:5]\n",
    "pur_count = most_pop_df[\"Item ID\"].count()\n",
    "\n",
    "total_purchase_value_df.head()\n"
   ]
  },
  {
   "cell_type": "code",
   "execution_count": 573,
   "metadata": {},
   "outputs": [],
   "source": [
    "#* Identify the 5 most profitable items by total purchase value, then list (in a table):\n",
    "#  * Item ID\n",
    "#  * Item Name\n",
    "#  * Purchase Count\n",
    "#  * Item Price\n",
    "#  * Total Purchase Value\n",
    "\n"
   ]
  },
  {
   "cell_type": "code",
   "execution_count": null,
   "metadata": {},
   "outputs": [],
   "source": []
  }
 ],
 "metadata": {
  "kernelspec": {
   "display_name": "Python 3",
   "language": "python",
   "name": "python3"
  },
  "language_info": {
   "codemirror_mode": {
    "name": "ipython",
    "version": 3
   },
   "file_extension": ".py",
   "mimetype": "text/x-python",
   "name": "python",
   "nbconvert_exporter": "python",
   "pygments_lexer": "ipython3",
   "version": "3.6.4"
  }
 },
 "nbformat": 4,
 "nbformat_minor": 2
}
